{
 "cells": [
  {
   "cell_type": "code",
   "execution_count": 3,
   "metadata": {},
   "outputs": [
    {
     "name": "stdout",
     "output_type": "stream",
     "text": [
      "Car name: BMW \n",
      "Car color: Golden\n",
      "Car model: 2015\n",
      "Car seats: 20\n",
      "Car average: 400 kmpl\n"
     ]
    }
   ],
   "source": [
    "class vehcle():\n",
    "    def __init__(self, name, model, color):\n",
    "        self.name = name\n",
    "        self.model = model\n",
    "        self.color = color\n",
    "        self.seats = 20\n",
    "        self.average = \"400 kmpl\"\n",
    "\n",
    "\n",
    "gadi = vehcle(\"BMW \", 2015, \"Golden\")\n",
    "\n",
    "print(\"Car name: {}\".format(gadi.name))\n",
    "print(\"Car color: {}\".format(gadi.color))\n",
    "print(\"Car model: {}\".format(gadi.model))\n",
    "print(\"Car seats: {}\".format(gadi.seats))\n",
    "print(\"Car average: {}\".format(gadi.average))"
   ]
  },
  {
   "cell_type": "code",
   "execution_count": null,
   "metadata": {},
   "outputs": [],
   "source": []
  },
  {
   "cell_type": "code",
   "execution_count": null,
   "metadata": {},
   "outputs": [],
   "source": []
  },
  {
   "cell_type": "code",
   "execution_count": null,
   "metadata": {},
   "outputs": [],
   "source": []
  }
 ],
 "metadata": {
  "file_extension": ".py",
  "kernelspec": {
   "display_name": "Python 3",
   "language": "python",
   "name": "python3"
  },
  "language_info": {
   "codemirror_mode": {
    "name": "ipython",
    "version": 3
   },
   "file_extension": ".py",
   "mimetype": "text/x-python",
   "name": "python",
   "nbconvert_exporter": "python",
   "pygments_lexer": "ipython3",
   "version": "3.7.4"
  },
  "mimetype": "text/x-python",
  "name": "python",
  "npconvert_exporter": "python",
  "pygments_lexer": "ipython3",
  "version": 3
 },
 "nbformat": 4,
 "nbformat_minor": 2
}
