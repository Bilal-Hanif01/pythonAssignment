{
 "nbformat": 4,
 "nbformat_minor": 2,
 "metadata": {
  "language_info": {
   "name": "python",
   "codemirror_mode": {
    "name": "ipython",
    "version": 3
   },
   "version": "3.7.3"
  },
  "orig_nbformat": 2,
  "file_extension": ".py",
  "mimetype": "text/x-python",
  "name": "python",
  "npconvert_exporter": "python",
  "pygments_lexer": "ipython3",
  "version": 3
 },
 "cells": [
  {
   "cell_type": "code",
   "execution_count": 1,
   "metadata": {},
   "outputs": [
    {
     "name": "stdout",
     "output_type": "stream",
     "text": "Car name: Toyota Fortuner\nCar color: Silver\nCar model: 2019\nCar seats: 7\nCar average: 12 kmpl\n"
    }
   ],
   "source": [
    "class car():\n",
    "    def __init__(self, name, model, color):\n",
    "        self.name = name\n",
    "        self.model = model\n",
    "        self.color = color\n",
    "        self.seats = 7\n",
    "        self.average = \"12 kmpl\"\n",
    "\n",
    "\n",
    "car1 = car(\"Toyota Fortuner\", 2019, \"Silver\")\n",
    "\n",
    "print(\"Car name: {}\".format(car1.name))\n",
    "print(\"Car color: {}\".format(car1.color))\n",
    "print(\"Car model: {}\".format(car1.model))\n",
    "print(\"Car seats: {}\".format(car1.seats))\n",
    "print(\"Car average: {}\".format(car1.average))\n"
   ]
  },
  {
   "cell_type": "code",
   "execution_count": null,
   "metadata": {},
   "outputs": [],
   "source": []
  }
 ]
}