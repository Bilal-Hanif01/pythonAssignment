{
 "cells": [
  {
   "cell_type": "code",
   "execution_count": 6,
   "metadata": {},
   "outputs": [
    {
     "name": "stdout",
     "output_type": "stream",
     "text": [
      "479001600\n"
     ]
    }
   ],
   "source": [
    "\"\"\" \n",
    "Answer # 1\n",
    "    Write a Python function to calculate the factorial of a number (a non-negative\n",
    "integer). The function accepts the number as an argument.\n",
    "\"\"\"\n",
    "\n",
    "def factorial(n):\n",
    "    num = 1\n",
    "    while n > 0:\n",
    "        num *= n\n",
    "        n -= 1\n",
    "    return num\n",
    "\n",
    "print(factorial(12))"
   ]
  },
  {
   "cell_type": "code",
   "execution_count": 7,
   "metadata": {},
   "outputs": [
    {
     "name": "stdout",
     "output_type": "stream",
     "text": [
      "(8, 79)\n"
     ]
    }
   ],
   "source": [
    "\"\"\"\n",
    "Answer # 2\n",
    "    Write a Python function that accepts a string and calculate the number of upper\n",
    "case letters and lower case letters.\n",
    "\"\"\"\n",
    "\n",
    "def caseCLC(string):\n",
    "    uppers = 0\n",
    "    lowers = 0\n",
    "    for char in string:\n",
    "        if char.islower():\n",
    "            lowers += 1\n",
    "        elif char.isupper():\n",
    "            uppers += 1\n",
    "    return uppers, lowers\n",
    "\n",
    "print(caseCLC(\"Hello Hafeez Ghanchi! are you ready to be called as Microsoft Certified Python Developer after 14 December?\"))"
   ]
  },
  {
   "cell_type": "code",
   "execution_count": 25,
   "metadata": {},
   "outputs": [
    {
     "name": "stdout",
     "output_type": "stream",
     "text": [
      "[114, 26, 6, 74, 64, 44]\n"
     ]
    }
   ],
   "source": [
    "\"\"\"\n",
    "Answer # 3\n",
    "    Write a Python function to print the even numbers from a given list.\n",
    "\"\"\"\n",
    "\n",
    "\n",
    "def evenIndex(nums):\n",
    "    li = []\n",
    "    for num in range(0,len(nums)):\n",
    "        if nums[num] % 2 == 0:\n",
    "            li.append(nums[num])\n",
    "    return li\n",
    "    \n",
    "print(evenIndex([114,26,33,5,63,7,445,6,74,64,45.5,102.2,44]))"
   ]
  },
  {
   "cell_type": "code",
   "execution_count": 8,
   "metadata": {},
   "outputs": [
    {
     "name": "stdout",
     "output_type": "stream",
     "text": [
      "Enter any word to test if it is pelindrome: madam\n",
      "You entered a palindrome.\n"
     ]
    }
   ],
   "source": [
    "\"\"\"\n",
    "Answer # 4\n",
    "Write a Python function that checks whether a passed string is palindrome or not.\n",
    "Note: A palindrome is a word, phrase, or sequence that reads the same\n",
    "backward as forward, e.g., madam\n",
    "\"\"\"\n",
    "\n",
    "def palindromeTEST(word):\n",
    "    reverse = ''.join(reversed(word))\n",
    "    if word == reverse and word != \"\":\n",
    "        return \"You entered a palindrome.\"\n",
    "    else:\n",
    "        return \"It is'nt palindrome.\"\n",
    "\n",
    "check_palindrome = input(\"Enter any word to test if it is pelindrome: \")\n",
    "print(palindromeTEST(check_palindrome))"
   ]
  },
  {
   "cell_type": "code",
   "execution_count": 10,
   "metadata": {},
   "outputs": [
    {
     "name": "stdout",
     "output_type": "stream",
     "text": [
      "Enter any number to check if it is prime or not: 92\n",
      "It is not a prime number.\n",
      "2 times 46 is 92\n"
     ]
    }
   ],
   "source": [
    "\"\"\"\n",
    "Answer # 5\n",
    "Write a Python function that takes a number as a parameter and check the\n",
    "number is prime or not.\n",
    "\"\"\"\n",
    "\n",
    "def isprime():\n",
    "    nums = int(input(\"Enter any number to check if it is prime or not: \"))\n",
    "    return prime(nums)\n",
    "\n",
    "def prime(nums):\n",
    "    if nums > 1:\n",
    "        for num in range(2,nums):\n",
    "            if (nums % num) == 0:\n",
    "                print(\"It is not a prime number.\")\n",
    "                print(num,\"times\",nums//num, \"is\", nums)\n",
    "                break\n",
    "        else:\n",
    "            print(\"It is a prime number.\")\n",
    "\n",
    "isprime()"
   ]
  },
  {
   "cell_type": "code",
   "execution_count": 11,
   "metadata": {},
   "outputs": [
    {
     "name": "stdout",
     "output_type": "stream",
     "text": [
      "\n",
      "Enter an item to add it in your cart: \n",
      "or Press [ENTER] to finish: \n",
      "cat\n",
      "\n",
      "Enter an item to add it in your cart: \n",
      "or Press [ENTER] to finish: \n",
      "dog\n",
      "\n",
      "Enter an item to add it in your cart: \n",
      "or Press [ENTER] to finish: \n",
      "fish\n",
      "\n",
      "Enter an item to add it in your cart: \n",
      "or Press [ENTER] to finish: \n",
      "\n",
      "\n",
      "Items you have bought is:\n",
      "Cat\n",
      "Dog\n",
      "Fish\n",
      "\n"
     ]
    }
   ],
   "source": [
    "\"\"\"\n",
    "Answer # 6\n",
    "Suppose a customer is shopping in a market and you need to print all the items\n",
    "which user bought from market.\n",
    "Write a function which accepts the multiple arguments of user shopping list and\n",
    "print all the items which user bought from market.\n",
    "(Hint: Arbitrary Argument concept can make this task ease)\n",
    "\"\"\"\n",
    "\n",
    "\n",
    "\n",
    "def boughtITEM():\n",
    "    cart = []\n",
    "    while True:                                  \n",
    "        carts = input(\"\\nEnter an item to add it in your cart: \\nor Press [ENTER] to finish: \\n\")\n",
    "        if carts == \"\":\n",
    "            break\n",
    "        cart.append(carts)\n",
    "    item_list = \"\"\n",
    "    for item in range(0,len(cart)):\n",
    "        item_list = item_list + cart[item].title() + \"\\n\"\n",
    "    print(\"\\nItems you have bought is:\\n\"+item_list)\n",
    "\n",
    "boughtITEM()"
   ]
  },
  {
   "cell_type": "code",
   "execution_count": null,
   "metadata": {},
   "outputs": [],
   "source": []
  }
 ],
 "metadata": {
  "kernelspec": {
   "display_name": "Python 3",
   "language": "python",
   "name": "python3"
  },
  "language_info": {
   "codemirror_mode": {
    "name": "ipython",
    "version": 3
   },
   "file_extension": ".py",
   "mimetype": "text/x-python",
   "name": "python",
   "nbconvert_exporter": "python",
   "pygments_lexer": "ipython3",
   "version": "3.7.3"
  }
 },
 "nbformat": 4,
 "nbformat_minor": 2
}
