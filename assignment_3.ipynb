{
 "cells": [
  {
   "cell_type": "code",
   "execution_count": 1,
   "metadata": {},
   "outputs": [
    {
     "name": "stdout",
     "output_type": "stream",
     "text": [
      "Wanna Perform addition, subraction, multiplication, division or square? \n",
      "Enter an operator: +\n",
      "Enter first value: 1\n",
      "Enter second value: 2\n",
      "Sum of given values is:  3.0\n"
     ]
    }
   ],
   "source": [
    "#Make a calculator using Python with addition , subtraction , multiplication , \n",
    "#division and power.\n",
    "\n",
    "\n",
    "operator = input(\"Wanna Perform addition, subraction, multiplication, division or square? \\nEnter an operator: \")\n",
    "value1 = float(input(\"Enter first value: \"))\n",
    "value2 = float(input(\"Enter second value: \"))\n",
    "\n",
    "if operator == \"add\" or operator == \"+\":\n",
    "    print(\"Sum of given values is: \",value1+value2)\n",
    "elif operator == \"minus\" or operator == \"-\":\n",
    "    print(\"Subraction of given values is: \",value1-value2)\n",
    "elif operator == \"multiply\" or operator == \"*\":\n",
    "    print(\"Multiplication of given values is: \",value1*value2)\n",
    "elif operator == \"divide\" or operator == \"/\":\n",
    "    print(\"Division of given values is: \",value1/value2)\n",
    "elif operator == \"square\" or operator == \"**\":\n",
    "    print(\"Square of given values is: \", value1**value2)\n",
    "else:\n",
    "    print(\"You Entered incorrect operator.\")"
   ]
  },
  {
   "cell_type": "code",
   "execution_count": 2,
   "metadata": {},
   "outputs": [
    {
     "name": "stdout",
     "output_type": "stream",
     "text": [
      "Numeric values from the list is:  2\n",
      "Numeric values from the list is:  5\n",
      "Numeric values from the list is:  6.0\n",
      "Numeric values from the list is:  7.6\n",
      "Numeric values from the list is:  300000000.0\n"
     ]
    }
   ],
   "source": [
    "#Write a program to check if there is any numeric #value in list using for loop \n",
    "\n",
    "\n",
    "list = [\"Cat\",2,\"Boy\",5,6.,\"Pen\",7.6,False,None,3e8]\n",
    "for i in range(0,len(list)):\n",
    "        if type(list[i]) == float or type(list[i]) == int:\n",
    "            numeric = print(\"Numeric values from the list is: \",list[i])"
   ]
  },
  {
   "cell_type": "code",
   "execution_count": 3,
   "metadata": {},
   "outputs": [
    {
     "name": "stdout",
     "output_type": "stream",
     "text": [
      "\n",
      "Current Dictionary is;\n",
      "{'University': 'University of Karachi', 'Department': 'Institute of Space Science and Technology', 'Batch': 2019, 'Student Name': 'Hafeez Ghanchi'}\n",
      "\n",
      "Updated Dictionary is;\n",
      "{'University': 'University of Karachi', 'Department': 'Institute of Space Science and Technology', 'Batch': 2019, 'Student Name': 'Hafeez Ghanchi', 'Student ID': 'EH1918015', 'Major': 'Astrophysics'}\n"
     ]
    }
   ],
   "source": [
    "#Write a Python script to add a key to a dictionary \n",
    "\n",
    "print(\"\\nCurrent Dictionary is;\")\n",
    "dic = {\"University\":\"University of Karachi\",\"Department\":\"Institute of Space Science and Technology\",\"Batch\":2019,\"Student Name\":\"Hafeez Ghanchi\"}\n",
    "print(dic)\n",
    "\n",
    "print(\"\\nUpdated Dictionary is;\")\n",
    "new_dic = {\"Student ID\":\"EH1918015\",\"Major\":\"Astrophysics\"}\n",
    "dic.update(new_dic)\n",
    "print(dic)"
   ]
  },
  {
   "cell_type": "code",
   "execution_count": 4,
   "metadata": {},
   "outputs": [
    {
     "name": "stdout",
     "output_type": "stream",
     "text": [
      "Your obtained marks is 344 with percentage of 86.0\n"
     ]
    }
   ],
   "source": [
    "#Write a Python program to sum all the numeric items in a dictionary \n",
    "\n",
    "dic = {\"Math\":80,\"Physics\":94,\"Astrophsics\":88,\"Programming\":82}\n",
    "\n",
    "mark = sum(dic.values())\n",
    "percentage = (mark/400)*100\n",
    "\n",
    "print(\"Your obtained marks is\",mark,\"with percentage of\",percentage)\n",
    "\n"
   ]
  },
  {
   "cell_type": "code",
   "execution_count": 5,
   "metadata": {},
   "outputs": [
    {
     "name": "stdout",
     "output_type": "stream",
     "text": [
      "Duplicate values from a list is:  ['Hammer', 0.75, 300000000.0, 'Beast']\n"
     ]
    }
   ],
   "source": [
    "#Write a program to identify duplicate values from list \n",
    "\n",
    "list = [\"Hammer\",24,.75,\"Cow\",3e8,\"Hammer\",50,.75,\"Beast\",\"Beast\",3e8]\n",
    "duplicate = []\n",
    "for i in range(len(list)):\n",
    "    inc = i+1\n",
    "    for j in range(inc,len(list)):\n",
    "        if list[i] == list[j] and list[i] not in duplicate:\n",
    "            duplicate.append(list[i])\n",
    "print(\"Duplicate values from a list is: \",duplicate)            "
   ]
  },
  {
   "cell_type": "code",
   "execution_count": 7,
   "metadata": {},
   "outputs": [
    {
     "name": "stdout",
     "output_type": "stream",
     "text": [
      "{'Student1': 'Hafeez', 'Student2': 'Sameer', 'Student3': 'Asad', 'Student4': 'Mehmood', 'Student5': 'Hamza'}\n",
      "Student1  is present and his name is  Hafeez .\n"
     ]
    }
   ],
   "source": [
    "#Write a Python script to check if a given key already exists in a dictionary \n",
    "\n",
    "dic = {\"Student1\":\"Hafeez\",\"Student2\":\"Sameer\",\"Student3\":\"Asad\",\"Student4\":\"Mehmood\",\"Student5\":\"Hamza\"}\n",
    "duplicate = {}\n",
    "print(dic)\n",
    "key = \"Student1\"\n",
    "if key in dic.keys(): \n",
    "        print(key,\" is present and his name is \",dic[key])\n",
    "else:\n",
    "        print(\"Not present\")"
   ]
  },
  {
   "cell_type": "code",
   "execution_count": null,
   "metadata": {},
   "outputs": [],
   "source": []
  }
 ],
 "metadata": {
  "kernelspec": {
   "display_name": "Python 3",
   "language": "python",
   "name": "python3"
  },
  "language_info": {
   "codemirror_mode": {
    "name": "ipython",
    "version": 3
   },
   "file_extension": ".py",
   "mimetype": "text/x-python",
   "name": "python",
   "nbconvert_exporter": "python",
   "pygments_lexer": "ipython3",
   "version": "3.7.3"
  }
 },
 "nbformat": 4,
 "nbformat_minor": 2
}
