{
 "cells": [
  {
   "cell_type": "code",
   "execution_count": 1,
   "metadata": {},
   "outputs": [
    {
     "name": "stdout",
     "output_type": "stream",
     "text": [
      "Twinkle, twinkle, little star,\n",
      "      How I wonder what you are!\n",
      "             Up above the world so high,\n",
      "             Like a diamond in the sky.\n",
      "Twinkle, twinkle, little star,\n",
      "      How I wonder what you are!\n"
     ]
    }
   ],
   "source": [
    "#Poem in Python \n",
    "#\n",
    "print('Twinkle, twinkle, little star,\\n      How I wonder what you are!\\n             Up above the world so high,\\n             Like a diamond in the sky.\\nTwinkle, twinkle, little star,\\n      How I wonder what you are!')"
   ]
  },
  {
   "cell_type": "code",
   "execution_count": 2,
   "metadata": {},
   "outputs": [
    {
     "name": "stdout",
     "output_type": "stream",
     "text": [
      "Your current Python version is:\n",
      "3.7.3 (default, Mar 27 2019, 22:11:17) \n",
      "[GCC 7.3.0]\n"
     ]
    }
   ],
   "source": [
    "#Python Version\n",
    "import sys\n",
    "version = \"Your current Python version is:\\n\"\n",
    "print(version + sys.version)"
   ]
  },
  {
   "cell_type": "code",
   "execution_count": 3,
   "metadata": {},
   "outputs": [
    {
     "name": "stdout",
     "output_type": "stream",
     "text": [
      "Your current date and time is: 2019-11-28 01:36:45.359677\n"
     ]
    }
   ],
   "source": [
    "#Current Date and Time\n",
    "from datetime import datetime as dt\n",
    "urTime = \"Your current date and time is: \"\n",
    "timeNow = dt.now()\n",
    "print(urTime + str(timeNow))"
   ]
  },
  {
   "cell_type": "code",
   "execution_count": 4,
   "metadata": {},
   "outputs": [
    {
     "name": "stdout",
     "output_type": "stream",
     "text": [
      "Enter radius of circle: 10\n",
      "Area of circle is 314.1592653589793 units\n"
     ]
    }
   ],
   "source": [
    "#Area of circle\n",
    "import math\n",
    "pi = math.pi\n",
    "radius = input('Enter radius of circle: ')\n",
    "Area = pi*float(radius)**2\n",
    "print('Area of circle is ' + str(Area) + ' units')"
   ]
  },
  {
   "cell_type": "code",
   "execution_count": 7,
   "metadata": {},
   "outputs": [
    {
     "name": "stdout",
     "output_type": "stream",
     "text": [
      "Enter your first name: Hafeez\n",
      "Enter your last name: Ghanchi\n",
      "Hello! Ghanchi Hafeez\n"
     ]
    }
   ],
   "source": [
    "# Name reversed\n",
    "fName = input(\"Enter your first name: \")\n",
    "lName = input(\"Enter your last name: \")\n",
    "print(\"Hello! \" + str(lName) + \" \" + str(fName))"
   ]
  },
  {
   "cell_type": "code",
   "execution_count": 8,
   "metadata": {},
   "outputs": [
    {
     "name": "stdout",
     "output_type": "stream",
     "text": [
      "Enter first value: 2\n",
      "Enter ssecond value: 2\n",
      "sum of given value is: 4.0\n"
     ]
    }
   ],
   "source": [
    "# Perfroming addition\n",
    "input_1 = input('Enter first value: ')\n",
    "input_2 = input('Enter ssecond value: ')\n",
    "sum  = float(input_1) + float(input_2)\n",
    "print(\"sum of given value is: \" + str(sum))"
   ]
  },
  {
   "cell_type": "code",
   "execution_count": null,
   "metadata": {},
   "outputs": [],
   "source": []
  }
 ],
 "metadata": {
  "kernelspec": {
   "display_name": "Python 3",
   "language": "python",
   "name": "python3"
  },
  "language_info": {
   "codemirror_mode": {
    "name": "ipython",
    "version": 3
   },
   "file_extension": ".py",
   "mimetype": "text/x-python",
   "name": "python",
   "nbconvert_exporter": "python",
   "pygments_lexer": "ipython3",
   "version": "3.7.3"
  }
 },
 "nbformat": 4,
 "nbformat_minor": 2
}
