{
 "cells": [
  {
   "cell_type": "code",
   "execution_count": 1,
   "metadata": {},
   "outputs": [
    {
     "name": "stdout",
     "output_type": "stream",
     "text": [
      "Enter your Mathematics obtained marks: 100\n",
      "Enter your Astrophysics obtained marks: 100\n",
      "Enter your Cosmology obtained marks: 50\n",
      "Enter your Astronomy obtained marks: 85\n",
      "Enter your Programming obtained marks: 41\n",
      "\n",
      "Excellent! You passed with A grade with percentage of 75.2\n"
     ]
    }
   ],
   "source": [
    "#Write a program which takes 5 inputs from user for different subject’s\n",
    "\n",
    "math = float(input(\"Enter your Mathematics obtained marks: \"))\n",
    "astrophysics = float(input(\"Enter your Astrophysics obtained marks: \"))\n",
    "cosmology = float(input(\"Enter your Cosmology obtained marks: \"))\n",
    "astronomy = float(input(\"Enter your Astronomy obtained marks: \"))\n",
    "programming = float(input(\"Enter your Programming obtained marks: \"))\n",
    "\n",
    "obt_marks = math + astrophysics + cosmology + astronomy + programming\n",
    "percentage = (obt_marks/500)*100\n",
    "if percentage <= 100 and percentage >= 80:\n",
    "    print(\"\\nCongrat! You passed with A+ grade with percentage of\",percentage)\n",
    "elif percentage <= 79 and percentage >= 70:\n",
    "    print(\"\\nExcellent! You passed with A grade with percentage of\",percentage)\n",
    "elif percentage <= 69 and percentage >= 60:\n",
    "    print(\"\\nNice! You passed with B grade with percentage of\",percentage)\n",
    "elif percentage <= 59 and percentage >= 50:\n",
    "    print(\"\\nPoor! You passed with C grade with percentage of\",percentage)\n",
    "elif percentage <= 49 and percentage >=0:\n",
    "    print(\"Better Luck! You Failed the exam\")\n",
    "else:\n",
    "    print(\"Your entered invalid values\")    "
   ]
  },
  {
   "cell_type": "code",
   "execution_count": 3,
   "metadata": {},
   "outputs": [
    {
     "name": "stdout",
     "output_type": "stream",
     "text": [
      "Enter any number: 3\n",
      "You entered odd number.\n"
     ]
    }
   ],
   "source": [
    "\"\"\"Write a program which take input from user and identify that the given\n",
    "number is even or odd?\"\"\"\n",
    "\n",
    "num = int(input(\"Enter any number: \"))\n",
    "if num%2 == 0:\n",
    "    print(\"You entered even number.\")\n",
    "else:\n",
    "    print(\"You entered odd number.\")"
   ]
  },
  {
   "cell_type": "code",
   "execution_count": 4,
   "metadata": {},
   "outputs": [
    {
     "name": "stdout",
     "output_type": "stream",
     "text": [
      "6\n"
     ]
    }
   ],
   "source": [
    "\"\"\"Write a program which print the length of the list\"\"\"\n",
    "\n",
    "animals= [\"Cat\",\"Dog\",\"Parrot\",\"Fish\",\"Cow\",\"Goat\"]\n",
    "print(len(animals))"
   ]
  },
  {
   "cell_type": "code",
   "execution_count": 9,
   "metadata": {},
   "outputs": [
    {
     "name": "stdout",
     "output_type": "stream",
     "text": [
      "59\n"
     ]
    }
   ],
   "source": [
    "\"\"\"Write a Python program to sum all the numeric items in a list?\"\"\"\n",
    "list = [4,5,10,15,25]\n",
    "print(sum(list))"
   ]
  },
  {
   "cell_type": "code",
   "execution_count": 7,
   "metadata": {},
   "outputs": [
    {
     "name": "stdout",
     "output_type": "stream",
     "text": [
      "94\n"
     ]
    }
   ],
   "source": [
    "\"\"\"Write a Python program to get the largest number from a numeric list.\"\"\"\n",
    "num = [10,25,45,55,15,20,66,44,85,94,20,44]\n",
    "print(max(num))"
   ]
  },
  {
   "cell_type": "code",
   "execution_count": 8,
   "metadata": {},
   "outputs": [
    {
     "name": "stdout",
     "output_type": "stream",
     "text": [
      "1\n",
      "1\n",
      "2\n",
      "3\n"
     ]
    }
   ],
   "source": [
    "\"\"\"Take a list, say for example this one:\n",
    "a = [1, 1, 2, 3, 5, 8, 13, 21, 34, 55, 89]\n",
    "and write a program that prints out all the elements of the list that are\n",
    "less than 5.\"\"\"\n",
    "\n",
    "a = [1, 1, 2, 3, 5, 8, 13, 21, 34, 55, 89]\n",
    "for i in range(0,len(a)):\n",
    "    if a[i] < 5:\n",
    "        print(a[i])\n",
    "\n",
    "\n"
   ]
  },
  {
   "cell_type": "code",
   "execution_count": null,
   "metadata": {},
   "outputs": [],
   "source": []
  }
 ],
 "metadata": {
  "kernelspec": {
   "display_name": "Python 3",
   "language": "python",
   "name": "python3"
  },
  "language_info": {
   "codemirror_mode": {
    "name": "ipython",
    "version": 3
   },
   "file_extension": ".py",
   "mimetype": "text/x-python",
   "name": "python",
   "nbconvert_exporter": "python",
   "pygments_lexer": "ipython3",
   "version": "3.7.3"
  }
 },
 "nbformat": 4,
 "nbformat_minor": 2
}
