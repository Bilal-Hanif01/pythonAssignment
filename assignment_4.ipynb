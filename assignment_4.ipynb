{
 "cells": [
  {
   "cell_type": "code",
   "execution_count": 1,
   "metadata": {},
   "outputs": [
    {
     "name": "stdout",
     "output_type": "stream",
     "text": [
      "('first_name', 'Hafeez')\n",
      "('last_name', 'Ghanchi')\n",
      "('age', '21')\n",
      "('city', 'Karachi')\n",
      "\n",
      "\n",
      "('first_name', 'Hafeez')\n",
      "('last_name', 'Ghanchi')\n",
      "('age', '21')\n",
      "('city', 'Karachi')\n",
      "('qualification', 'High Academic Level')\n",
      "\n",
      "\n",
      "('first_name', 'Hafeez')\n",
      "('last_name', 'Ghanchi')\n",
      "('age', '21')\n",
      "('city', 'Karachi')\n",
      "\n",
      "\n"
     ]
    }
   ],
   "source": [
    "\"\"\"Use a dictionary to store information about a person you know. Store their first name, last name, age, and the city in which they live. You should have keys such as first_name, last_name, age, and city. Print each piece of information stored in your dictionary. Add a new key value pair about qualification then update the qualification value to high academic level then delete it.\n",
    "\"\"\"\n",
    "\n",
    "bio = { \n",
    "\"first_name\":\"Hafeez\",\n",
    "\"last_name\": \"Ghanchi\",\n",
    "\"age\": \"21\",\n",
    "\"city\": \"Karachi\"}\n",
    "\n",
    "for x in bio.items():\n",
    "    print(x)\n",
    "print('\\n')\n",
    "\n",
    "bio.update({\"qualification\":\"High Academic Level\"})\n",
    "for x in bio.items():\n",
    "    print(x)\n",
    "print('\\n')\n",
    "\n",
    "bio.pop(\"qualification\")\n",
    "for x in bio.items():\n",
    "    print(x)\n",
    "print('\\n')"
   ]
  },
  {
   "cell_type": "code",
   "execution_count": 2,
   "metadata": {},
   "outputs": [
    {
     "name": "stdout",
     "output_type": "stream",
     "text": [
      "Karachi\n",
      "{'Country': 'Pakistan', 'Population': '15,741,406', 'GDP': '$114 billion'}\n",
      "\n",
      "\n",
      "Mumbai\n",
      "{'Country': 'India', 'Population': '12,478,447', 'GDP': ' $368 billion'}\n",
      "\n",
      "\n",
      "New York City\n",
      "{'Country': 'United States of America (USA)', 'Population': '8,175,133', 'GDP': '$1550 billion '}\n",
      "\n",
      "\n"
     ]
    }
   ],
   "source": [
    "\"\"\"Make a dictionary called cities. Use the names of three cities as keys in your dictionary. Create a dictionary of information about each city and include the country that the city is in, its approximate population, and one fact about that city. The keys for each city’s dictionary should be something like country, population, and fact. Print the name of each city and all of the information you have stored about it.\"\"\"\n",
    "\n",
    "cities = {\"Karachi\"\n",
    ":{\"Country\":\"Pakistan\"\n",
    ",\"Population\":\"15,741,406\"\n",
    ",\"GDP\":\"$114 billion\"\n",
    "},\n",
    "\"Mumbai\":\n",
    "{\"Country\":\"India\"\n",
    ",\"Population\":\"12,478,447\"\n",
    ",\"GDP\":\" $368 billion\"\n",
    "},\n",
    "\"New York City\"\n",
    ":{\"Country\":\"United States of America (USA)\"\n",
    ",\"Population\":\"8,175,133\"\n",
    ",\"GDP\":\"$1550 billion \"\n",
    "}\n",
    "}\n",
    "\n",
    "for city in cities.keys():\n",
    "    print(city)\n",
    "    print(cities[city])\n",
    "    print(\"\\n\")\n"
   ]
  },
  {
   "cell_type": "code",
   "execution_count": 3,
   "metadata": {},
   "outputs": [
    {
     "name": "stdout",
     "output_type": "stream",
     "text": [
      "Enter Your Age: \n",
      "Press '0' to exit.\n",
      "12\n",
      "Your ticket is $10.\n",
      "\n",
      "Enter Your Age: \n",
      "Press '0' to exit.\n",
      "5\n",
      "Your ticket is $10.\n",
      "\n",
      "Enter Your Age: \n",
      "Press '0' to exit.\n",
      "7\n",
      "Your ticket is $10.\n",
      "\n",
      "Enter Your Age: \n",
      "Press '0' to exit.\n",
      "75\n",
      "Your ticket is $15.\n",
      "\n",
      "Enter Your Age: \n",
      "Press '0' to exit.\n",
      "0\n"
     ]
    }
   ],
   "source": [
    "\"\"\"A movie theater charges different ticket prices depending on a person’s age. If a person is under the age of 3, the ticket is free; if they are between 3 and 12, the ticket is $10; and if they are over age 12, the ticket is $15. Write a loop in which you ask users their age, and then tell them the cost of their movie ticket.\"\"\"\n",
    "\n",
    "while True:\n",
    "    age = int(input(\"Enter Your Age: \\nPress '0' to exit.\\n\"))\n",
    "    if age == 0:\n",
    "        break\n",
    "    if age <= 3:\n",
    "        print(\"Your ticket is free.\\n\")\n",
    "    elif age <= 12 and age >= 4:\n",
    "        print(\"The cost of your ticket is $10.\\n\")\n",
    "    elif age > 12 and age <= 120:\n",
    "        print(\"The cost of your ticket is $15.\\n\")\n",
    "    else:\n",
    "        print(\"Invalid input! Enter correct age.\\n\")\n",
    "    \n"
   ]
  },
  {
   "cell_type": "code",
   "execution_count": 4,
   "metadata": {},
   "outputs": [
    {
     "name": "stdout",
     "output_type": "stream",
     "text": [
      "One of my favorite book is  The Call of the Marching Bell\n"
     ]
    }
   ],
   "source": [
    "\"\"\"Write a function called favorite_book() that accepts one parameter, title. The function should print a message, such as One of my favorite books is Alice in Wonderland. Call the function, making sure to include a book title as an argument in the function call.\n",
    "\"\"\"\n",
    "\n",
    "def favorite_book(title):\n",
    "    print(\"One of my favorite book is \",title) \n",
    "\n",
    "favorite_book(\"The Call of the Marching Bell (Bang-e-Dara)\")\n"
   ]
  },
  {
   "cell_type": "code",
   "execution_count": 5,
   "metadata": {},
   "outputs": [
    {
     "name": "stdout",
     "output_type": "stream",
     "text": [
      "Can you guess a hidden number? \n",
      "Take guess: 1\n",
      "You guessed it! The number was 1\n",
      "With 2 turn remaining.\n"
     ]
    }
   ],
   "source": [
    "\"\"\"Guess the number game\n",
    "Write a program which randomly generate a number between 1 to 30 and ask the user in input field to guess the correct number. Give three chances to user guess the number and also give hint to user if hidden number is greater or smaller than the number he given to input field.\n",
    "\"\"\"\n",
    "\n",
    "import random\n",
    " \n",
    "hidden_number = random.randrange(1,30)\n",
    "chances = 3\n",
    "\n",
    "for chance in range(chances):\n",
    "    guess = int(input(\"Can you guess a hidden number? \\nTake guess: \"))\n",
    "    if hidden_number == guess:\n",
    "        print(\"You guessed it! The number was\",hidden_number)\n",
    "        if chance >= 2:\n",
    "            print(\"Amazing! You did it in last attempt.\")\n",
    "            break\n",
    "        print(\"With\", chances - (chance+1), \"turn remaining.\")\n",
    "        break\n",
    "    elif hidden_number > guess:\n",
    "        print(\"Higher\")\n",
    "    elif hidden_number < guess:\n",
    "        print(\"Lower\")\n",
    "\n",
    "if guess != hidden_number:\n",
    "    print()\n",
    "    print('Sorry you reached the maximum number of tries')\n",
    "    print('The secret number was', hidden_number)\n",
    "    \n"
   ]
  },
  {
   "cell_type": "code",
   "execution_count": null,
   "metadata": {},
   "outputs": [],
   "source": []
  }
 ],
 "metadata": {
  "kernelspec": {
   "display_name": "Python 3",
   "language": "python",
   "name": "python3"
  },
  "language_info": {
   "codemirror_mode": {
    "name": "ipython",
    "version": 3
   },
   "file_extension": ".py",
   "mimetype": "text/x-python",
   "name": "python",
   "nbconvert_exporter": "python",
   "pygments_lexer": "ipython3",
   "version": "3.7.3"
  }
 },
 "nbformat": 4,
 "nbformat_minor": 2
}